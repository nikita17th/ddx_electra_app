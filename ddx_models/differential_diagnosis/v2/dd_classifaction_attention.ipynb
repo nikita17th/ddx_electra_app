{
 "cells": [
  {
   "metadata": {
    "ExecuteTime": {
     "end_time": "2025-04-20T21:21:17.685233Z",
     "start_time": "2025-04-20T21:21:13.335647Z"
    }
   },
   "cell_type": "code",
   "source": [
    "import ast\n",
    "import json\n",
    "import os\n",
    "\n",
    "import numpy as np\n",
    "import pandas as pd\n",
    "import torch\n",
    "import torch.nn as nn\n",
    "\n",
    "from sklearn.metrics import average_precision_score\n",
    "from torch.utils.data import Dataset\n",
    "from transformers import (\n",
    "    AutoTokenizer,\n",
    "    ElectraForSequenceClassification,\n",
    "    Trainer,\n",
    "    TrainingArguments,\n",
    "    ElectraConfig\n",
    ")"
   ],
   "id": "fe22988060825413",
   "outputs": [
    {
     "name": "stderr",
     "output_type": "stream",
     "text": [
      "/Users/n.dergunov/IdeaProjects/ddx_electra_app/ddx_models/.venv/lib/python3.9/site-packages/urllib3/__init__.py:35: NotOpenSSLWarning: urllib3 v2 only supports OpenSSL 1.1.1+, currently the 'ssl' module is compiled with 'LibreSSL 2.8.3'. See: https://github.com/urllib3/urllib3/issues/3020\n",
      "  warnings.warn(\n",
      "/Users/n.dergunov/IdeaProjects/ddx_electra_app/ddx_models/.venv/lib/python3.9/site-packages/tqdm/auto.py:21: TqdmWarning: IProgress not found. Please update jupyter and ipywidgets. See https://ipywidgets.readthedocs.io/en/stable/user_install.html\n",
      "  from .autonotebook import tqdm as notebook_tqdm\n"
     ]
    }
   ],
   "execution_count": 1
  },
  {
   "metadata": {
    "ExecuteTime": {
     "end_time": "2025-04-20T21:21:17.704192Z",
     "start_time": "2025-04-20T21:21:17.691615Z"
    }
   },
   "cell_type": "code",
   "source": [
    "os.environ[\"PYTORCH_ENABLE_MPS_FALLBACK\"] = \"1\"\n",
    "os.environ[\"TOKENIZERS_PARALLELISM\"] = \"false\"\n",
    "device = torch.device(\"mps\" if torch.backends.mps.is_available() else \"cpu\")\n",
    "common_path = \"../../common\""
   ],
   "id": "564dcd5c7c624da9",
   "outputs": [],
   "execution_count": 2
  },
  {
   "metadata": {
    "ExecuteTime": {
     "end_time": "2025-04-20T21:21:17.820802Z",
     "start_time": "2025-04-20T21:21:17.815646Z"
    }
   },
   "cell_type": "code",
   "source": [
    "class CustomElectra(ElectraForSequenceClassification):\n",
    "    def __init__(self, config):\n",
    "        super().__init__(config)\n",
    "\n",
    "        self.attention = nn.MultiheadAttention(\n",
    "            embed_dim=config.hidden_size,\n",
    "            num_heads=4,\n",
    "            dropout=0.3,\n",
    "            batch_first=True\n",
    "        )\n",
    "        self.layer_norm = nn.LayerNorm(config.hidden_size)\n",
    "        self.classifier = nn.Sequential(\n",
    "            nn.Linear(config.hidden_size, 512),\n",
    "            nn.GELU(),\n",
    "            nn.Dropout(0.3),\n",
    "            nn.Linear(512, config.num_labels)\n",
    "        )\n",
    "        self.loss_fct = nn.BCEWithLogitsLoss()\n",
    "\n",
    "    def forward(self, input_ids, attention_mask, labels=None):\n",
    "        outputs = self.electra(\n",
    "            input_ids,\n",
    "            attention_mask=attention_mask,\n",
    "            output_attentions=False\n",
    "        )\n",
    "\n",
    "        # Применение механизма внимания\n",
    "        attn_output, _ = self.attention(\n",
    "            outputs.last_hidden_state,\n",
    "            outputs.last_hidden_state,\n",
    "            outputs.last_hidden_state,\n",
    "            key_padding_mask=~attention_mask.bool()\n",
    "        )\n",
    "\n",
    "        # Усреднение с учетом внимания\n",
    "        pooled = torch.mean(attn_output, dim=1)\n",
    "        logits = self.classifier(pooled)\n",
    "\n",
    "        loss = None\n",
    "        if labels is not None:\n",
    "            loss = self.loss_fct(logits, labels.float())\n",
    "\n",
    "        return (loss, logits) if loss is not None else logits"
   ],
   "id": "c9309bb256ea3f57",
   "outputs": [],
   "execution_count": 3
  },
  {
   "metadata": {
    "ExecuteTime": {
     "end_time": "2025-04-20T21:21:17.829557Z",
     "start_time": "2025-04-20T21:21:17.826060Z"
    }
   },
   "cell_type": "code",
   "source": [
    "class MedicalDataset(Dataset):\n",
    "    def __init__(self, dataframe, tokenizer, label_to_index):\n",
    "        self.dataframe = dataframe\n",
    "        self.tokenizer = tokenizer\n",
    "        self.label_to_index = label_to_index\n",
    "\n",
    "    def __len__(self):\n",
    "        return len(self.dataframe)\n",
    "\n",
    "    def __getitem__(self, idx):\n",
    "        row = self.dataframe.iloc[idx]\n",
    "        text = self._preprocess_row(row)\n",
    "\n",
    "        inputs = self.tokenizer.encode_plus(\n",
    "            text,\n",
    "            add_special_tokens=True,\n",
    "            return_tensors=\"pt\",\n",
    "            truncation=True,\n",
    "            padding='max_length',\n",
    "            max_length=300\n",
    "        )\n",
    "\n",
    "        labels = torch.zeros(len(self.label_to_index))\n",
    "        diagnosis = ast.literal_eval(row['DIFFERENTIAL_DIAGNOSIS'])\n",
    "\n",
    "        for disease, probability in diagnosis:\n",
    "            if disease in self.label_to_index:\n",
    "                index = self.label_to_index[disease]\n",
    "                labels[index] = probability\n",
    "\n",
    "        return {\n",
    "            'input_ids': inputs['input_ids'].squeeze(0).to(device),\n",
    "            'attention_mask': inputs['attention_mask'].squeeze(0).to(device),\n",
    "            'labels': labels.to(device)\n",
    "        }\n",
    "\n",
    "    @staticmethod\n",
    "    def _preprocess_row(row):\n",
    "        age = str(row['AGE'])\n",
    "        sex = row['SEX']\n",
    "        evidences = ' '.join(ast.literal_eval(row['EVIDENCES']))\n",
    "        initial_evidence = row['INITIAL_EVIDENCE']\n",
    "        return f\"[AGE] {age} [SEX] {sex} [EVIDENCES] {evidences} [INITIAL] {initial_evidence}\""
   ],
   "id": "d53479ee99bf5227",
   "outputs": [],
   "execution_count": 4
  },
  {
   "metadata": {
    "ExecuteTime": {
     "end_time": "2025-04-20T21:21:17.869101Z",
     "start_time": "2025-04-20T21:21:17.866595Z"
    }
   },
   "cell_type": "code",
   "source": [
    "def load_evidences_codes(json_path):\n",
    "    with open(json_path, 'r') as f:\n",
    "        data = json.load(f)\n",
    "    all_codes = []\n",
    "    seen = set()\n",
    "\n",
    "    for evidence_id, evidence_data in data.items():\n",
    "        if evidence_id not in seen:\n",
    "            all_codes.append(evidence_id)\n",
    "            seen.add(evidence_id)\n",
    "\n",
    "        possible_values = evidence_data.get(\"possible-values\", [])\n",
    "        for val in possible_values:\n",
    "            code = f\"{evidence_id}_@_{val}\"\n",
    "            if code not in seen:\n",
    "                all_codes.append(code)\n",
    "                seen.add(code)\n",
    "\n",
    "    return all_codes"
   ],
   "id": "954c74c7fb798fef",
   "outputs": [],
   "execution_count": 5
  },
  {
   "metadata": {
    "ExecuteTime": {
     "end_time": "2025-04-20T21:21:17.882797Z",
     "start_time": "2025-04-20T21:21:17.878703Z"
    }
   },
   "cell_type": "code",
   "source": [
    "def compute_ddx_metrics(eval_pred):\n",
    "    logits, labels = eval_pred\n",
    "\n",
    "    # Преобразуем логиты в вероятности\n",
    "    probs = 1 / (1 + np.exp(-logits))  # Sigmoid через numpy\n",
    "    predictions = probs > 0.02  # Порог остается 0.02\n",
    "\n",
    "    recall_values = []\n",
    "    precision_values = []\n",
    "\n",
    "    for true, pred in zip(labels, predictions):\n",
    "        true_indices = set(np.where(true > 0)[0].tolist())\n",
    "        pred_indices = set(np.where(pred)[0].tolist())\n",
    "\n",
    "        # Recall (DDR)\n",
    "        if len(true_indices) > 0:\n",
    "            recall = len(true_indices & pred_indices) / len(true_indices)\n",
    "        else:\n",
    "            recall = 0\n",
    "        recall_values.append(recall)\n",
    "\n",
    "        # Precision (DDP)\n",
    "        if len(pred_indices) > 0:\n",
    "            precision = len(true_indices & pred_indices) / len(pred_indices)\n",
    "        else:\n",
    "            precision = 0\n",
    "        precision_values.append(precision)\n",
    "\n",
    "    DDR = np.mean(recall_values)\n",
    "    DDP = np.mean(precision_values)\n",
    "    DDF1 = 2 * DDR * DDP / (DDR + DDP) if (DDR + DDP) > 0 else 0\n",
    "\n",
    "    labels_binary = (labels >= 0.05).astype(int)\n",
    "    valid_classes = np.where(labels_binary.sum(axis=0) > 0)[0]\n",
    "    if len(valid_classes) == 0:\n",
    "        mAP = 0.0  # Все классы \"пустые\"\n",
    "    else:\n",
    "        mAP = average_precision_score(\n",
    "            labels_binary[:, valid_classes],\n",
    "            probs[:, valid_classes],\n",
    "            average='macro'\n",
    "        )\n",
    "    return {\"DDR\": DDR, \"DDP\": DDP, \"DDF1\": DDF1, \"mAP\": mAP}"
   ],
   "id": "b2573074fb846a2c",
   "outputs": [],
   "execution_count": 6
  },
  {
   "metadata": {
    "ExecuteTime": {
     "end_time": "2025-04-20T21:21:19.745293Z",
     "start_time": "2025-04-20T21:21:19.697718Z"
    }
   },
   "cell_type": "code",
   "source": [
    "if os.path.exists('./dd_classification_attention_v2_tokenizer'):\n",
    "    tokenizer = AutoTokenizer.from_pretrained(\"./dd_classification_attention_v2_tokenizer\")\n",
    "else:\n",
    "    tokenizer = AutoTokenizer.from_pretrained(\"google/electra-small-discriminator\")\n",
    "    evidences_codes = load_evidences_codes(f'{common_path}/release_evidences.json')\n",
    "    tokenizer.add_tokens(evidences_codes)\n",
    "    tokenizer.save_pretrained(f'./dd_classification_attention_v2_tokenizer')"
   ],
   "id": "3bf77ba206ced2c8",
   "outputs": [],
   "execution_count": 7
  },
  {
   "metadata": {
    "ExecuteTime": {
     "end_time": "2025-04-20T21:21:27.688759Z",
     "start_time": "2025-04-20T21:21:21.901377Z"
    }
   },
   "cell_type": "code",
   "source": [
    "train_data = pd.read_csv(f'{common_path}/release_train_patients.csv')\n",
    "val_data = pd.read_csv(f'{common_path}/release_validate_patients.csv')\n",
    "test_data = pd.read_csv(f'{common_path}/release_test_patients.csv')"
   ],
   "id": "83f3f4ffbc6b201f",
   "outputs": [],
   "execution_count": 8
  },
  {
   "metadata": {
    "ExecuteTime": {
     "end_time": "2025-04-20T21:21:27.696006Z",
     "start_time": "2025-04-20T21:21:27.692554Z"
    }
   },
   "cell_type": "code",
   "source": [
    "labels_file = f'{common_path}/labels.json'\n",
    "if os.path.exists(labels_file):\n",
    "    with open(labels_file, 'r') as f:\n",
    "        all_labels = json.load(f)\n",
    "else:\n",
    "    all_labels = sorted({\n",
    "        disease for diagnoses in train_data['DIFFERENTIAL_DIAGNOSIS']\n",
    "        for disease, _ in ast.literal_eval(diagnoses)\n",
    "    })\n",
    "    with open(labels_file, 'w') as f:\n",
    "        json.dump(all_labels, f)\n",
    "label_to_index = {label: idx for idx, label in enumerate(all_labels)}"
   ],
   "id": "a14102420c891919",
   "outputs": [],
   "execution_count": 9
  },
  {
   "metadata": {},
   "cell_type": "code",
   "outputs": [],
   "execution_count": null,
   "source": [
    "config = ElectraConfig.from_pretrained(\"google/electra-small-discriminator\")\n",
    "config.num_labels = len(all_labels)\n",
    "config.problem_type = \"multi_label_classification\"\n",
    "model = CustomElectra(config)\n",
    "model.resize_token_embeddings(len(tokenizer), mean_resizing=False)\n",
    "model.to(device)\n",
    "train_dataset = MedicalDataset(train_data, tokenizer, label_to_index)\n",
    "val_dataset = MedicalDataset(val_data, tokenizer, label_to_index)\n",
    "\n",
    "torch.mps.empty_cache()\n",
    "training_args = TrainingArguments(\n",
    "    output_dir=\"./dd_classification_attention_v2\",\n",
    "    per_device_train_batch_size=32,\n",
    "    per_device_eval_batch_size=64,\n",
    "    learning_rate=3e-5,\n",
    "    num_train_epochs=2,\n",
    "    warmup_ratio=0.1,\n",
    "    weight_decay=0.01,\n",
    "    eval_strategy=\"epoch\",\n",
    "    logging_dir=\"./logs\",\n",
    "    fp16=False,\n",
    "    dataloader_pin_memory=False\n",
    ")\n",
    "\n",
    "trainer = Trainer(\n",
    "    model=model,\n",
    "    args=training_args,\n",
    "    train_dataset=train_dataset,\n",
    "    eval_dataset=val_dataset,\n",
    "    compute_metrics=compute_ddx_metrics,\n",
    ")\n",
    "trainer.train()"
   ],
   "id": "70afbea1931ae27c"
  },
  {
   "metadata": {
    "ExecuteTime": {
     "end_time": "2025-04-21T07:20:24.815887Z",
     "start_time": "2025-04-20T21:22:03.956640Z"
    }
   },
   "cell_type": "code",
   "source": [
    "model_path = \"./dd_classification_attention_v2_11-12/checkpoint-64102\"\n",
    "config = CustomElectra.config_class.from_pretrained(model_path)\n",
    "model = CustomElectra(config).from_pretrained(model_path)\n",
    "model.to(torch.device(\"mps\" if torch.backends.mps.is_available() else \"cpu\"))\n",
    "train_dataset = MedicalDataset(train_data, tokenizer, label_to_index)\n",
    "val_dataset = MedicalDataset(val_data, tokenizer, label_to_index)\n",
    "\n",
    "training_args = TrainingArguments(\n",
    "    output_dir=\"./dd_classification_attention_v2_13-14\",\n",
    "    per_device_train_batch_size=128,\n",
    "    per_device_eval_batch_size=256,\n",
    "    learning_rate=2e-5,\n",
    "    num_train_epochs=2,\n",
    "    warmup_ratio=0.1,\n",
    "    weight_decay=0.01,\n",
    "    eval_strategy=\"epoch\",\n",
    "    logging_dir=\"./logs_continued\",\n",
    "    fp16=False,\n",
    "    dataloader_pin_memory=False\n",
    ")\n",
    "\n",
    "trainer = Trainer(\n",
    "    model=model,\n",
    "    args=training_args,\n",
    "    train_dataset=train_dataset,\n",
    "    eval_dataset=val_dataset,\n",
    "    compute_metrics=compute_ddx_metrics,\n",
    ")\n",
    "\n",
    "trainer.train()"
   ],
   "id": "f8dab5306d9a3dd1",
   "outputs": [
    {
     "data": {
      "text/plain": [
       "<IPython.core.display.HTML object>"
      ],
      "text/html": [
       "\n",
       "    <div>\n",
       "      \n",
       "      <progress value='16026' max='16026' style='width:300px; height:20px; vertical-align: middle;'></progress>\n",
       "      [16026/16026 9:58:16, Epoch 2/2]\n",
       "    </div>\n",
       "    <table border=\"1\" class=\"dataframe\">\n",
       "  <thead>\n",
       " <tr style=\"text-align: left;\">\n",
       "      <th>Epoch</th>\n",
       "      <th>Training Loss</th>\n",
       "      <th>Validation Loss</th>\n",
       "      <th>Ddr</th>\n",
       "      <th>Ddp</th>\n",
       "      <th>Ddf1</th>\n",
       "      <th>Map</th>\n",
       "    </tr>\n",
       "  </thead>\n",
       "  <tbody>\n",
       "    <tr>\n",
       "      <td>1</td>\n",
       "      <td>0.056100</td>\n",
       "      <td>0.055626</td>\n",
       "      <td>0.963553</td>\n",
       "      <td>0.956546</td>\n",
       "      <td>0.960037</td>\n",
       "      <td>0.980190</td>\n",
       "    </tr>\n",
       "    <tr>\n",
       "      <td>2</td>\n",
       "      <td>0.056000</td>\n",
       "      <td>0.055561</td>\n",
       "      <td>0.963363</td>\n",
       "      <td>0.958155</td>\n",
       "      <td>0.960752</td>\n",
       "      <td>0.981959</td>\n",
       "    </tr>\n",
       "  </tbody>\n",
       "</table><p>"
      ]
     },
     "metadata": {},
     "output_type": "display_data"
    },
    {
     "data": {
      "text/plain": [
       "TrainOutput(global_step=16026, training_loss=0.056095573208267496, metrics={'train_runtime': 35900.4492, 'train_samples_per_second': 57.136, 'train_steps_per_second': 0.446, 'total_flos': 3.66661777219272e+16, 'train_loss': 0.056095573208267496, 'epoch': 2.0})"
      ]
     },
     "execution_count": 11,
     "metadata": {},
     "output_type": "execute_result"
    }
   ],
   "execution_count": 11
  },
  {
   "metadata": {
    "ExecuteTime": {
     "end_time": "2025-04-21T07:35:34.795400Z",
     "start_time": "2025-04-21T07:23:49.594565Z"
    }
   },
   "cell_type": "code",
   "source": [
    "model_path = \"./dd_classification_attention_v2_13-14/checkpoint-16026\"\n",
    "model = CustomElectra.from_pretrained(model_path).to(device)\n",
    "test_dataset = MedicalDataset(test_data, tokenizer, label_to_index)\n",
    "trainer = Trainer(\n",
    "    model=model,\n",
    "    eval_dataset=test_dataset,\n",
    "    compute_metrics=compute_ddx_metrics,\n",
    ")\n",
    "results_test = trainer.evaluate()\n",
    "print(results_test)"
   ],
   "id": "ad0f5b7cc58a3096",
   "outputs": [
    {
     "data": {
      "text/plain": [
       "<IPython.core.display.HTML object>"
      ],
      "text/html": [
       "\n",
       "    <div>\n",
       "      \n",
       "      <progress value='16817' max='16817' style='width:300px; height:20px; vertical-align: middle;'></progress>\n",
       "      [16817/16817 11:41]\n",
       "    </div>\n",
       "    "
      ]
     },
     "metadata": {},
     "output_type": "display_data"
    },
    {
     "name": "stdout",
     "output_type": "stream",
     "text": [
      "{'eval_loss': 0.05550779774785042, 'eval_model_preparation_time': 0.0015, 'eval_DDR': 0.9631959591967247, 'eval_DDP': 0.9571134904221055, 'eval_DDF1': 0.960145091875931, 'eval_mAP': 0.9819792174875558, 'eval_runtime': 705.0096, 'eval_samples_per_second': 190.819, 'eval_steps_per_second': 23.854}\n"
     ]
    }
   ],
   "execution_count": 12
  },
  {
   "metadata": {},
   "cell_type": "markdown",
   "source": [
    "#2 epochs\n",
    "# {'eval_loss': 0.0565946102142334, 'eval_model_preparation_time': 0.0011, 'eval_DDR': 0.9481489755333883, 'eval_DDP': 0.9194950801035492, 'eval_DDF1': 0.9336022199485412, 'eval_runtime': 650.13, 'eval_samples_per_second': 206.926, 'eval_steps_per_second': 25.867}\n",
    "\n",
    "#4 epochs\n",
    "# {'eval_loss': 0.05620526522397995, 'eval_model_preparation_time': 0.0011, 'eval_DDR': 0.9517030228571284, 'eval_DDP': 0.9346772433937448, 'eval_DDF1': 0.9431132988912363, 'eval_runtime': 672.0701, 'eval_samples_per_second': 200.171, 'eval_steps_per_second': 25.023}\n",
    "\n",
    "#14\n",
    "{'eval_loss': 0.05550779774785042, 'eval_model_preparation_time': 0.0015, 'eval_DDR': 0.9631959591967247, 'eval_DDP': 0.9571134904221055, 'eval_DDF1': 0.960145091875931, 'eval_mAP': 0.9819792174875558, 'eval_runtime': 705.0096, 'eval_samples_per_second': 190.819, 'eval_steps_per_second': 23.854}\n"
   ],
   "id": "6e3873775953ee8c"
  },
  {
   "metadata": {},
   "cell_type": "code",
   "outputs": [],
   "execution_count": null,
   "source": "",
   "id": "2707d0d6ea639b98"
  }
 ],
 "metadata": {
  "kernelspec": {
   "display_name": "Python 3",
   "language": "python",
   "name": "python3"
  },
  "language_info": {
   "codemirror_mode": {
    "name": "ipython",
    "version": 2
   },
   "file_extension": ".py",
   "mimetype": "text/x-python",
   "name": "python",
   "nbconvert_exporter": "python",
   "pygments_lexer": "ipython2",
   "version": "2.7.6"
  }
 },
 "nbformat": 4,
 "nbformat_minor": 5
}
